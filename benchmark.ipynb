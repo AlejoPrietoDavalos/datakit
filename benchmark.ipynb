{
 "cells": [
  {
   "cell_type": "code",
   "execution_count": 37,
   "metadata": {},
   "outputs": [],
   "source": [
    "import random\n",
    "\n",
    "import time\n",
    "\n",
    "from typing import Callable, Any, Dict, List"
   ]
  },
  {
   "cell_type": "code",
   "execution_count": 36,
   "metadata": {},
   "outputs": [],
   "source": [
    "# class Benchmark(Dict[str, List[int]]):\n",
    "#     @staticmethod\n",
    "#     def dt(func: Callable[..., Any]) -> Callable[..., Any]:\n",
    "#         \"\"\" Decorador que calcula el tiempo que tarda en ejecutar la función.\"\"\"\n",
    "#         def wrapper(*args, **kwargs):\n",
    "#             t_i = time.perf_counter()\n",
    "#             result = func(*args, **kwargs)\n",
    "#             dt_ = time.perf_counter() - t_i\n",
    "#             print(f\"{func.__name__}: {dt_}\")\n",
    "#             return result\n",
    "#         return wrapper\n",
    "# bench = Benchmark()"
   ]
  },
  {
   "cell_type": "code",
   "execution_count": 34,
   "metadata": {},
   "outputs": [
    {
     "name": "stdout",
     "output_type": "stream",
     "text": [
      "funcion_costosa: 3.0017871449999802\n"
     ]
    }
   ],
   "source": [
    "# @bench.dt\n",
    "# def funcion_costosa():\n",
    "#     time.sleep(random.randint(1,3))\n",
    "# funcion_costosa()"
   ]
  },
  {
   "cell_type": "code",
   "execution_count": 44,
   "metadata": {},
   "outputs": [],
   "source": [
    "import time\n",
    "import random\n",
    "from typing import List, NewType, Callable, Any\n",
    "\n",
    "T_BenchName = NewType(\"bench_name\", str)\n",
    "T_dt = NewType(\"dt\", int)\n",
    "T_dts = NewType(\"dts\", List[T_dt])\n",
    "\n",
    "\n",
    "class Benchmark(Dict[T_BenchName, T_dts]):\n",
    "    \"\"\" Benchmark de todas las funciones decoradas con `dt`.\"\"\"\n",
    "    def __init__(self, bench_names: List[str]):\n",
    "        super().__init__({name: [] for name in bench_names})\n",
    "\n",
    "    def dt(self, name: str) -> Callable[..., Any]:\n",
    "        \"\"\"\n",
    "        Decorador: Calcula el tiempo que tarda en ejecutar la función decorada.\n",
    "        - Se almacena dentro de `Benchmark` con key `name` en una lista.\n",
    "        \"\"\"\n",
    "        def decorator(func: Callable[..., Any]) -> Callable[..., Any]:\n",
    "            def wrapper(*args, **kwargs):\n",
    "                t_i = time.perf_counter()\n",
    "                result = func(*args, **kwargs)\n",
    "                self[name].append(time.perf_counter() - t_i)\n",
    "                return result\n",
    "            return wrapper\n",
    "        return decorator\n",
    "\n",
    "bench = Benchmark([\"hola\", \"funcion_costosa\"])\n",
    "\n",
    "@bench.dt(name=\"funcion_costosa\")\n",
    "def funcion_costosa():\n",
    "    time.sleep(random.randint(1, 3))\n",
    "\n",
    "for _ in range(5):\n",
    "    funcion_costosa()\n"
   ]
  },
  {
   "cell_type": "code",
   "execution_count": 45,
   "metadata": {},
   "outputs": [
    {
     "data": {
      "text/plain": [
       "{'hola': [],\n",
       " 'funcion_costosa': [3.00134452400016,\n",
       "  3.0030490560002363,\n",
       "  1.0010558879994278,\n",
       "  2.0017465700002504,\n",
       "  2.0021595789994535]}"
      ]
     },
     "execution_count": 45,
     "metadata": {},
     "output_type": "execute_result"
    }
   ],
   "source": [
    "bench"
   ]
  }
 ],
 "metadata": {
  "kernelspec": {
   "display_name": "Python 3",
   "language": "python",
   "name": "python3"
  },
  "language_info": {
   "codemirror_mode": {
    "name": "ipython",
    "version": 3
   },
   "file_extension": ".py",
   "mimetype": "text/x-python",
   "name": "python",
   "nbconvert_exporter": "python",
   "pygments_lexer": "ipython3",
   "version": "3.10.12"
  },
  "orig_nbformat": 4
 },
 "nbformat": 4,
 "nbformat_minor": 2
}
